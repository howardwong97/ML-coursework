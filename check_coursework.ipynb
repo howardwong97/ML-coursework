{
 "cells": [
  {
   "cell_type": "code",
   "execution_count": 1,
   "metadata": {},
   "outputs": [],
   "source": [
    "import numpy as np"
   ]
  },
  {
   "cell_type": "code",
   "execution_count": 8,
   "metadata": {
    "id": "AK8IyjA0PsgJ"
   },
   "outputs": [
    {
     "name": "stderr",
     "output_type": "stream",
     "text": [
      "C:\\Users\\howar\\AppData\\Local\\Temp/ipykernel_6120/3286072735.py:45: DeprecationWarning: `np.str` is a deprecated alias for the builtin `str`. To silence this warning, use `str` by itself. Doing this will not modify any behavior and is safe. If you specifically wanted the numpy scalar type, use `np.str_` here.\n",
      "Deprecated in NumPy 1.20; for more details and guidance: https://numpy.org/devdocs/release/1.20.0-notes.html#deprecations\n",
      "  printmd(\"**Fraction correct with training data is: \"+np.str(fraction_correct)+\"**\")\n"
     ]
    },
    {
     "data": {
      "text/markdown": [
       "**Fraction correct with training data is: 0.508**"
      ],
      "text/plain": [
       "<IPython.core.display.Markdown object>"
      ]
     },
     "metadata": {},
     "output_type": "display_data"
    },
    {
     "data": {
      "text/markdown": [
       "**Warning: very poor performance on training data; likely error**"
      ],
      "text/plain": [
       "<IPython.core.display.Markdown object>"
      ]
     },
     "metadata": {},
     "output_type": "display_data"
    }
   ],
   "source": [
    "#upload model files\n",
    "import numpy as np\n",
    "import os.path\n",
    "from tensorflow.keras.models import load_model\n",
    "import numpy as np\n",
    "import pandas as pd\n",
    "from tensorflow.keras.utils import to_categorical\n",
    "\n",
    "h5file = 'model1.h5'\n",
    "scalefile = 'Outputs/wong-howard-1.npy'\n",
    "\n",
    "#load in the data provided to the students\n",
    "df = pd.read_csv('Data/dataset1.csv')\n",
    "model = load_model(h5file, compile=False)\n",
    "scaleArray = np.load(scalefile)\n",
    "\n",
    "Lt = np.array(df['Arm length (m)'][:])\n",
    "Wt = np.array(df['Ball weight (kg)'][:])\n",
    "Rt = np.array(df['Ball radius (mm)'][:])\n",
    "Tt = np.array(df['Air temperature (deg C)'][:])\n",
    "Et = np.array(df['Spring constant (N per m)'][:])\n",
    "Dt = np.array(df['Device weight (kg)'][:])\n",
    "Ot = np.array(df['Target hit'][:])\n",
    "XtUnscaled = np.column_stack([Lt, Wt, Rt, Tt, Et, Dt])\n",
    "\n",
    "# use values to scale validation data in XvUnscaled (whose shape is [number_of_validations,6])\n",
    "Xt = (XtUnscaled-scaleArray[0,:])/scaleArray[1,:]\n",
    "\n",
    "Yt = to_categorical(Ot)\n",
    "#run the data through the model\n",
    "Yt_predict = model.predict(Xt)\n",
    "\n",
    "number_correct = 0\n",
    "for i in range(len(Yt)):\n",
    "    if np.round(Yt[i, 0]) == np.round(Yt_predict[i, 0]):\n",
    "        number_correct += 1\n",
    "\n",
    "fraction_correct = 1.0 * number_correct / len(Yt_predict)\n",
    "\n",
    "#import to make it bold\n",
    "from IPython.display import Markdown, display\n",
    "def printmd(string):\n",
    "    display(Markdown(string))\n",
    "\n",
    "printmd(\"**Fraction correct with training data is: \"+np.str(fraction_correct)+\"**\")\n",
    "\n",
    "if fraction_correct < 0.6:\n",
    "    printmd('**Warning: very poor performance on training data; likely error**')"
   ]
  },
  {
   "cell_type": "code",
   "execution_count": null,
   "metadata": {},
   "outputs": [],
   "source": []
  }
 ],
 "metadata": {
  "colab": {
   "collapsed_sections": [],
   "name": "check_coursework.ipynb",
   "provenance": []
  },
  "kernelspec": {
   "display_name": "Python 3 (ipykernel)",
   "language": "python",
   "name": "python3"
  },
  "language_info": {
   "codemirror_mode": {
    "name": "ipython",
    "version": 3
   },
   "file_extension": ".py",
   "mimetype": "text/x-python",
   "name": "python",
   "nbconvert_exporter": "python",
   "pygments_lexer": "ipython3",
   "version": "3.9.7"
  }
 },
 "nbformat": 4,
 "nbformat_minor": 1
}
